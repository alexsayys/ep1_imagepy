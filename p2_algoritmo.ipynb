{
  "nbformat": 4,
  "nbformat_minor": 0,
  "metadata": {
    "colab": {
      "provenance": [],
      "authorship_tag": "ABX9TyOlmCNO0tcXmErq/4IA+c3f",
      "include_colab_link": true
    },
    "kernelspec": {
      "name": "python3",
      "display_name": "Python 3"
    },
    "language_info": {
      "name": "python"
    }
  },
  "cells": [
    {
      "cell_type": "markdown",
      "metadata": {
        "id": "view-in-github",
        "colab_type": "text"
      },
      "source": [
        "<a href=\"https://colab.research.google.com/github/alexsayys/ep1_imagepy/blob/main/p2_algoritmo.ipynb\" target=\"_parent\"><img src=\"https://colab.research.google.com/assets/colab-badge.svg\" alt=\"Open In Colab\"/></a>"
      ]
    },
    {
      "cell_type": "code",
      "execution_count": 1,
      "metadata": {
        "id": "yxP2atx0Sc4b"
      },
      "outputs": [],
      "source": [
        "# RECURSIVIDADE\n",
        "# FUNÇÃO FATORIAL\n",
        "def fatorial(n):\n",
        "  if n == 0 or n == 1:\n",
        "    return 1\n",
        "  else:\n",
        "    return n * fatorial(n-1)"
      ]
    },
    {
      "cell_type": "code",
      "source": [
        "print(f\"4!: {fatorial(4)}\")\n",
        "print(f\"3!: {fatorial(3)}\")\n",
        "print(f\"2!: {fatorial(2)}\")\n",
        "print(f\"0!: {fatorial(0)}\")"
      ],
      "metadata": {
        "colab": {
          "base_uri": "https://localhost:8080/"
        },
        "id": "7WnlF_h2S9Iq",
        "outputId": "3c43920e-8b55-4b8f-e394-50c0b3ad8b8b"
      },
      "execution_count": 2,
      "outputs": [
        {
          "output_type": "stream",
          "name": "stdout",
          "text": [
            "4!: 24\n",
            "3!: 6\n",
            "2!: 2\n",
            "0!: 1\n"
          ]
        }
      ]
    },
    {
      "cell_type": "code",
      "source": [
        "# FUNÇÃO FIBONACCI\n",
        "def fibonacci(n):\n",
        "  if n <= 1:\n",
        "    return n\n",
        "  else:\n",
        "    return fibonacci(n - 1) + fibonacci(n - 2)"
      ],
      "metadata": {
        "id": "Vqz3cBNqTg4l"
      },
      "execution_count": 34,
      "outputs": []
    },
    {
      "cell_type": "code",
      "source": [
        "print(f\"fibonacci(0): {fibonacci(0)}\")\n",
        "print(f\"fibonacci(1): {fibonacci(1)}\")\n",
        "print(f\"fibonacci(2): {fibonacci(2)}\")\n",
        "print(f\"fibonacci(3): {fibonacci(3)}\")\n",
        "print(f\"fibonacci(4): {fibonacci(4)}\")\n",
        "print(f\"fibonacci(5): {fibonacci(5)}\")"
      ],
      "metadata": {
        "colab": {
          "base_uri": "https://localhost:8080/"
        },
        "id": "MjwuLjhFUnfI",
        "outputId": "3cab2784-5262-4b75-ff9b-a117e1c738e8"
      },
      "execution_count": 37,
      "outputs": [
        {
          "output_type": "stream",
          "name": "stdout",
          "text": [
            "fibonacci(0): 0\n",
            "fibonacci(1): 1\n",
            "fibonacci(2): 1\n",
            "fibonacci(3): 2\n",
            "fibonacci(4): 3\n",
            "fibonacci(5): 5\n"
          ]
        }
      ]
    },
    {
      "cell_type": "code",
      "source": [
        "# DECIMAL PARA BINÁRIO\n",
        "def int2bin(n):\n",
        "  if n < 2:\n",
        "    return n\n",
        "  else:\n",
        "    return n % 2 + 10 * int2bin(n // 2)"
      ],
      "metadata": {
        "id": "X8a2sBTnZhST"
      },
      "execution_count": 50,
      "outputs": []
    },
    {
      "cell_type": "code",
      "source": [
        "print(f\"int2bin(45): {int2bin(45)}\")\n",
        "print(f\"int2bin(10): {int2bin(10)}\")\n",
        "print(f\"int2bin(3): {int2bin(3)}\")\n",
        "print(f\"int2bin(2): {int2bin(2)}\")"
      ],
      "metadata": {
        "colab": {
          "base_uri": "https://localhost:8080/"
        },
        "id": "EbpfT9H7bRNc",
        "outputId": "e6783ccf-9f66-47e0-eecb-424e296ba3ce"
      },
      "execution_count": 52,
      "outputs": [
        {
          "output_type": "stream",
          "name": "stdout",
          "text": [
            "int2bin(45): 101101\n",
            "int2bin(10): 1010\n",
            "int2bin(3): 11\n",
            "int2bin(2): 10\n"
          ]
        }
      ]
    },
    {
      "cell_type": "code",
      "source": [
        "# QUESTÃO P2 2018\n",
        "def max_rec(n, v):\n",
        "  if n == 1: return v[0]\n",
        "\n",
        "  a = max_rec(n - 1, v)\n",
        "  x = v[n - 1]\n",
        "  if a > x:\n",
        "    return a\n",
        "  return x"
      ],
      "metadata": {
        "id": "rpYahX6LvZ5R"
      },
      "execution_count": 56,
      "outputs": []
    },
    {
      "cell_type": "code",
      "source": [
        "print(max_rec(6, [3, 7, 1, 9, 4, 6]))"
      ],
      "metadata": {
        "colab": {
          "base_uri": "https://localhost:8080/"
        },
        "id": "LZ-9Tb_6-5bQ",
        "outputId": "c14dc022-14de-4640-9b1e-e1e8a2d1f2bc"
      },
      "execution_count": 57,
      "outputs": [
        {
          "output_type": "stream",
          "name": "stdout",
          "text": [
            "9\n"
          ]
        }
      ]
    },
    {
      "cell_type": "code",
      "source": [
        "# NDARRAY COM NUMPY\n",
        "import numpy as np\n",
        "\n",
        "impares = np.array([n for n in range(1, 16, 2)])\n",
        "print(impares)\n",
        "\n",
        "mt = np.zeros((5,5))\n",
        "print(mt)\n",
        "\n",
        "m = 1\n",
        "\n",
        "for i in range(len(mt)):\n",
        "  for j in range(len(mt)):\n",
        "    mt[i, j] = m\n",
        "    m += 1\n",
        "print(mt)\n",
        "\n",
        "print(mt[1:4,1:4])\n"
      ],
      "metadata": {
        "colab": {
          "base_uri": "https://localhost:8080/"
        },
        "id": "sRQVR369flbd",
        "outputId": "20dbc25c-20ad-4786-a34f-1402efddd90c"
      },
      "execution_count": 16,
      "outputs": [
        {
          "output_type": "stream",
          "name": "stdout",
          "text": [
            "[ 1  3  5  7  9 11 13 15]\n",
            "[[0. 0. 0. 0. 0.]\n",
            " [0. 0. 0. 0. 0.]\n",
            " [0. 0. 0. 0. 0.]\n",
            " [0. 0. 0. 0. 0.]\n",
            " [0. 0. 0. 0. 0.]]\n",
            "[[ 1.  2.  3.  4.  5.]\n",
            " [ 6.  7.  8.  9. 10.]\n",
            " [11. 12. 13. 14. 15.]\n",
            " [16. 17. 18. 19. 20.]\n",
            " [21. 22. 23. 24. 25.]]\n",
            "[[ 7.  8.  9.]\n",
            " [12. 13. 14.]\n",
            " [17. 18. 19.]]\n"
          ]
        }
      ]
    }
  ]
}